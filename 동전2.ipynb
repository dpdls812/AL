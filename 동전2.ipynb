{
 "cells": [
  {
   "cell_type": "code",
   "execution_count": null,
   "metadata": {},
   "outputs": [],
   "source": [
    "inputs = input().split()\n",
    "n=int(inputs[0])\n",
    "k=int(inputs[1])\n",
    "a=[]\n",
    "for i in range(0,n):\n",
    "    a.append(int(input()))\n",
    "\n",
    "dp=[]\n",
    "for i in range(0, k+1):\n",
    "    if(i==0):\n",
    "        dp.append(0)\n",
    "        continue\n",
    "    tmp=100001\n",
    "    for j in range(0, len(a)):\n",
    "        if(i-a[j]>=0):\n",
    "            tmp=min(dp[i-a[j]], tmp)\n",
    "    dp.append(tmp+1)\n",
    "    \n",
    "if(dp[k]==100002):\n",
    "    print(-1)\n",
    "else:\n",
    "    print(dp[k])"
   ]
  },
  {
   "cell_type": "code",
   "execution_count": null,
   "metadata": {},
   "outputs": [],
   "source": []
  }
 ],
 "metadata": {
  "kernelspec": {
   "display_name": "Python 3",
   "language": "python",
   "name": "python3"
  }
 },
 "nbformat": 4,
 "nbformat_minor": 2
}

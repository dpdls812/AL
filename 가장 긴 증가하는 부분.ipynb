{
 "cells": [
  {
   "cell_type": "code",
   "execution_count": 3,
   "metadata": {},
   "outputs": [
    {
     "name": "stdout",
     "output_type": "stream",
     "text": [
      "5\n",
      "10\n",
      "20\n",
      "10\n",
      "30\n",
      "20\n",
      "3\n"
     ]
    }
   ],
   "source": [
    "N=int(input())\n",
    "\n",
    "arr=[]\n",
    "for i in range(0,N):\n",
    "    arr.append(int(input()))\n",
    "\n",
    "dp=[]\n",
    "max=0\n",
    "j=0\n",
    "\n",
    "for i in arr:\n",
    "    if(i>max):\n",
    "        max=i\n",
    "        dp.append(max)\n",
    "        j=j+1\n",
    "        \n",
    "print(len(dp))"
   ]
  },
  {
   "cell_type": "code",
   "execution_count": null,
   "metadata": {},
   "outputs": [],
   "source": []
  }
 ],
 "metadata": {
  "kernelspec": {
   "display_name": "Python 3",
   "language": "python",
   "name": "python3"
  },
  "language_info": {
   "codemirror_mode": {
    "name": "ipython",
    "version": 3
   },
   "file_extension": ".py",
   "mimetype": "text/x-python",
   "name": "python",
   "nbconvert_exporter": "python",
   "pygments_lexer": "ipython3",
   "version": "3.6.4"
  }
 },
 "nbformat": 4,
 "nbformat_minor": 2
}
